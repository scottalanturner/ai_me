{
 "cells": [
  {
   "cell_type": "code",
   "execution_count": 1,
   "metadata": {},
   "outputs": [
    {
     "name": "stdout",
     "output_type": "stream",
     "text": [
      "sagemaker.config INFO - Not applying SDK defaults from location: /Library/Application Support/sagemaker/config.yaml\n",
      "sagemaker.config INFO - Not applying SDK defaults from location: /Users/sturner/Library/Application Support/sagemaker/config.yaml\n"
     ]
    }
   ],
   "source": [
    "import boto3\n",
    "import sagemaker\n",
    "import os\n",
    "import numpy as np\n",
    "import pandas as pd"
   ]
  },
  {
   "cell_type": "code",
   "execution_count": 3,
   "metadata": {},
   "outputs": [],
   "source": [
    "sage_session = sagemaker.Session()"
   ]
  },
  {
   "cell_type": "code",
   "execution_count": 17,
   "metadata": {},
   "outputs": [],
   "source": [
    "# constants\n",
    "bucket = 'sat-aime'"
   ]
  },
  {
   "cell_type": "code",
   "execution_count": 18,
   "metadata": {},
   "outputs": [],
   "source": [
    "s3_bucket = sagemaker.Session().default_bucket()\n",
    "s3_prefix = bucket\n",
    "s3_data_path = 's3://{}/{}/data'.format(s3_bucket, s3_prefix)\n",
    "s3_output_path = 's3://{}/{}/output'.format(s3_bucket, s3_prefix)"
   ]
  },
  {
   "cell_type": "code",
   "execution_count": 19,
   "metadata": {},
   "outputs": [],
   "source": [
    "role = 'SageMakerROle'  # IAM role to use by SageMaker. Yes, I messed up the O."
   ]
  },
  {
   "cell_type": "code",
   "execution_count": 20,
   "metadata": {},
   "outputs": [],
   "source": [
    "region = sage_session.boto_region_name\n",
    "#image_name = sagemaker.image_uris.retrieve('ai-me', region)"
   ]
  },
  {
   "cell_type": "code",
   "execution_count": 21,
   "metadata": {},
   "outputs": [
    {
     "name": "stdout",
     "output_type": "stream",
     "text": [
      "Using bucket sat-aime\n"
     ]
    }
   ],
   "source": [
    "s3_client = boto3.client(\"s3\")\n",
    "print('Using bucket ' + bucket)"
   ]
  },
  {
   "cell_type": "code",
   "execution_count": 22,
   "metadata": {},
   "outputs": [],
   "source": [
    "def copy_to_s3(local_file: str, s3_path: str, override=False):\n",
    "    print(f'Copying {local_file} to {s3_path}')\n",
    "    s3_client.upload_file(Filename=local_file, Bucket=bucket, Key=s3_path)\n",
    "    print(f'Uploaded {local_file} to {s3_path}')"
   ]
  },
  {
   "cell_type": "code",
   "execution_count": 23,
   "metadata": {},
   "outputs": [
    {
     "name": "stdout",
     "output_type": "stream",
     "text": [
      "Copying data/SAT767_mixdown.mp3 to s3://sagemaker-us-east-1-007715509628/sat-aime/data/SAT767_mixdown.mp3\n",
      "Uploaded data/SAT767_mixdown.mp3 to s3://sagemaker-us-east-1-007715509628/sat-aime/data/SAT767_mixdown.mp3\n"
     ]
    }
   ],
   "source": [
    "local_file = 'data/SAT767_mixdown.mp3'\n",
    "s3_path = s3_data_path + '/SAT767_mixdown.mp3'\n",
    "\n",
    "copy_to_s3(local_file, s3_path)"
   ]
  },
  {
   "cell_type": "markdown",
   "metadata": {},
   "source": [
    "# Transcribe"
   ]
  },
  {
   "cell_type": "markdown",
   "metadata": {},
   "source": []
  }
 ],
 "metadata": {
  "kernelspec": {
   "display_name": "Python 3",
   "language": "python",
   "name": "python3"
  },
  "language_info": {
   "codemirror_mode": {
    "name": "ipython",
    "version": 3
   },
   "file_extension": ".py",
   "mimetype": "text/x-python",
   "name": "python",
   "nbconvert_exporter": "python",
   "pygments_lexer": "ipython3",
   "version": "3.12.4"
  }
 },
 "nbformat": 4,
 "nbformat_minor": 2
}
